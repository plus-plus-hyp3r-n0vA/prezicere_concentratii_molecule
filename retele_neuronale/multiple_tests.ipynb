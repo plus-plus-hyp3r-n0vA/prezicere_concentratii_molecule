{
 "cells": [
  {
   "cell_type": "code",
   "execution_count": null,
   "metadata": {},
   "outputs": [],
   "source": [
    "import sys  \n",
    "sys.path.insert(0, '..')\n",
    "\n",
    "import pandas as pd\n",
    "\n",
    "import tensorflow as tf\n",
    "from tensorflow import keras\n",
    "from tensorflow.keras import layers\n",
    "import numpy as np\n",
    "\n",
    "from util.plots import show_plot\n",
    "\n",
    "feature = pd.read_csv('../data/feature_nirspec100.csv').values\n",
    "label = pd.read_csv('../data/label_nirspec100.csv').values\n",
    "\n",
    "train_feature = feature[:50000]\n",
    "train_label = label[:50000]\n",
    "test_feature = feature[50000:]\n",
    "test_label = label[50000:]\n",
    "\n",
    "\n",
    "print(\"Num GPUs Available: \", tf.config.list_physical_devices('GPU'))\n",
    "print(train_feature.shape, train_label.shape)"
   ]
  },
  {
   "cell_type": "code",
   "execution_count": 2,
   "metadata": {},
   "outputs": [],
   "source": [
    "def new_model(name):\n",
    "    inputs = keras.Input(shape = (198,))\n",
    "    \n",
    "    x = layers.Dense(150, activation='relu')(inputs)\n",
    "    x = layers.Dropout(0.1)(x)\n",
    "    x = layers.Dense(44, activation='relu')(x)\n",
    "    \n",
    "    outputs = layers.Dense(12, activation='relu')(x)\n",
    "    \n",
    "    return keras.Model(inputs=inputs, outputs=outputs, name=name)"
   ]
  },
  {
   "cell_type": "code",
   "execution_count": null,
   "metadata": {},
   "outputs": [],
   "source": [
    "learning_rate = [0.0001, 0.001, 0.01]\n",
    "optimizers = [keras.optimizers.Adam, keras.optimizers.SGD, keras.optimizers.RMSprop, keras.optimizers.Adamax, keras.optimizers.Adadelta,\n",
    "              keras.optimizers.Adagrad, keras.optimizers.Nadam, keras.optimizers.Ftrl]\n",
    "losses = [keras.losses.MeanSquaredError(), keras.losses.MeanAbsoluteError(), keras.losses.MeanSquaredLogarithmicError()]\n",
    "\n",
    "results = []\n",
    "best_model = None\n",
    "models = []\n",
    "history_array = []\n",
    "\n",
    "for lr in learning_rate:\n",
    "    for opt in optimizers:\n",
    "        optimizer = opt(learning_rate=lr)\n",
    "        for loss in losses:\n",
    "            model = new_model(f\"{lr}_{optimizer._name}_{loss.name}_model\")\n",
    "\n",
    "            model.compile(\n",
    "                optimizer=optimizer,\n",
    "                loss=loss,\n",
    "                metrics=['mse']\n",
    "            )\n",
    "            model.summary()\n",
    "\n",
    "            EPOCHS = 70\n",
    "            history = model.fit(train_feature,\n",
    "                                train_label,\n",
    "                                epochs=EPOCHS, batch_size=200,\n",
    "                                validation_split = 0.1)\n",
    "\n",
    "            mse_final_result = min(history.history['val_mse'])\n",
    "            model_copy = model\n",
    "            if best_model is None or best_model[0] > mse_final_result:\n",
    "                best_model = (mse_final_result, optimizer._name, loss.name, lr, model_copy)\n",
    "            results.append((optimizer._name, loss.name, {'val_mse': mse_final_result, 'lr': lr,\n",
    "                                                         'loss': (history.history['loss'][0], history.history['loss'][-1]),\n",
    "                                                         'val_loss': (history.history['val_loss'][0], history.history['val_loss'][-1])}))\n",
    "            models.append(model_copy)\n",
    "            history_array.append(history)\n",
    "        \n",
    "print('-'*50)\n",
    "print('BEST:', best_model[0:-1])\n",
    "print(results)"
   ]
  },
  {
   "cell_type": "code",
   "execution_count": null,
   "metadata": {},
   "outputs": [],
   "source": [
    "model = best_model[-1]\n",
    "show_plot(model.predict(test_feature[:2500]), test_label[:2500],\n",
    "          model.predict(train_feature[:5000]), train_label[:5000],\n",
    "         (0.5, 0.5), 800)"
   ]
  }
 ],
 "metadata": {
  "kernelspec": {
   "display_name": "Python 3",
   "language": "python",
   "name": "python3"
  },
  "language_info": {
   "codemirror_mode": {
    "name": "ipython",
    "version": 3
   },
   "file_extension": ".py",
   "mimetype": "text/x-python",
   "name": "python",
   "nbconvert_exporter": "python",
   "pygments_lexer": "ipython3",
   "version": "3.7.9"
  }
 },
 "nbformat": 4,
 "nbformat_minor": 4
}
