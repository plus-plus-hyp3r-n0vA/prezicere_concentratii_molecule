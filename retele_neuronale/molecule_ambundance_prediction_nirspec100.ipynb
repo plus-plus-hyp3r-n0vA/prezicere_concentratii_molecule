{
 "cells": [
  {
   "cell_type": "code",
   "execution_count": null,
   "metadata": {},
   "outputs": [],
   "source": [
    "import sys  \n",
    "sys.path.insert(0, '..')\n",
    "\n",
    "import pandas as pd\n",
    "\n",
    "import tensorflow as tf\n",
    "from tensorflow import keras\n",
    "from tensorflow.keras import layers\n",
    "import numpy as np\n",
    "\n",
    "from util.plots import show_plot\n",
    "\n",
    "feature = pd.read_csv('../data/feature_nirspec100.csv').values\n",
    "label = pd.read_csv('../data/label_nirspec100.csv').values\n",
    "\n",
    "train_feature = feature[:50000]\n",
    "train_label = label[:50000]\n",
    "test_feature = feature[50000:]\n",
    "test_label = label[50000:]\n",
    "\n",
    "print(\"Num GPUs Available: \", tf.config.list_physical_devices('GPU'))\n",
    "print(train_feature.shape, train_label.shape)"
   ]
  },
  {
   "cell_type": "markdown",
   "metadata": {},
   "source": [
    "## Model cu straturi dense"
   ]
  },
  {
   "cell_type": "code",
   "execution_count": null,
   "metadata": {
    "tags": []
   },
   "outputs": [],
   "source": [
    "inputs = keras.Input(shape = (198,))\n",
    "\n",
    "x = layers.Dense(150, activation='relu')(inputs)\n",
    "x = layers.Dropout(0.1)(x)\n",
    "x = layers.Dense(44, activation='relu')(x)\n",
    "\n",
    "outputs = layers.Dense(12, activation='relu')(x)\n",
    "\n",
    "model = keras.Model(inputs=inputs, outputs=outputs, name=\"d_model\")\n",
    "\n",
    "model.compile(\n",
    "    optimizer=keras.optimizers.Nadam(),\n",
    "    loss=keras.losses.MeanSquaredError(),\n",
    "    metrics=['mse', 'mae']\n",
    ")\n",
    "model.summary()\n",
    "\n",
    "EPOCHS = 95\n",
    "history = model.fit(train_feature,\n",
    "                    train_label,\n",
    "                    epochs=EPOCHS, batch_size=200,\n",
    "                    validation_split = 0.1)\n",
    "\n",
    "model.save('models/d_model_100')\n",
    "\n",
    "print('test', model.evaluate(test_feature, test_label, batch_size=5000))\n",
    "print('train', model.evaluate(train_feature, train_label, batch_size=5000))"
   ]
  },
  {
   "cell_type": "code",
   "execution_count": null,
   "metadata": {},
   "outputs": [],
   "source": [
    "from keras.utils.vis_utils import plot_model\n",
    "plot_model(model, to_file='model_plot.png', show_shapes=True, show_layer_names=True)"
   ]
  },
  {
   "cell_type": "code",
   "execution_count": null,
   "metadata": {},
   "outputs": [],
   "source": [
    "show_plot(model.predict(test_feature[:2500]), test_label[:2500],\n",
    "          model.predict(train_feature[:5000]), train_label[:5000],\n",
    "         (0.5, 0.5), 600)"
   ]
  },
  {
   "cell_type": "code",
   "execution_count": null,
   "metadata": {},
   "outputs": [],
   "source": [
    "# Datele prezise cel mai bine\n",
    "\n",
    "d = np.abs(model.predict(test_feature) - test_label)\n",
    "p = np.argwhere(d.mean(axis=1) < 0.025).reshape([-1])\n",
    "print(len(p))\n",
    "f = test_feature[p]\n",
    "l = test_label[p]\n",
    "print(p[:500])\n",
    "show_plot(model.predict(f[:500]), l[:500],\n",
    "          model.predict(test_feature[:100]), test_label[:100],\n",
    "         (0.4, 0.4), 800)"
   ]
  },
  {
   "cell_type": "code",
   "execution_count": null,
   "metadata": {},
   "outputs": [],
   "source": [
    "# Date cu input identic dar cu output diferit.\n",
    "\n",
    "p = np.argwhere(train_feature.sum(1)==0)\n",
    "print(train_feature[p][0:2])\n",
    "print(train_label[p].mean(0))\n",
    "print('nr instante ce respecta proprietatea: ', len(p))"
   ]
  },
  {
   "cell_type": "markdown",
   "metadata": {},
   "source": [
    "## Modele cu straturi convoluționale"
   ]
  },
  {
   "cell_type": "code",
   "execution_count": null,
   "metadata": {},
   "outputs": [],
   "source": [
    "train_feature_2 = train_feature[:,:,None]\n",
    "test_feature_2 = test_feature[:,:,None]\n",
    "print(train_feature_2.shape, test_feature_2.shape)"
   ]
  },
  {
   "cell_type": "code",
   "execution_count": null,
   "metadata": {
    "tags": []
   },
   "outputs": [],
   "source": [
    "inputs = keras.Input(shape = (198,1))\n",
    "\n",
    "x = layers.Conv1D(32, 3, activation='relu')(inputs)\n",
    "x = layers.Flatten()(x)\n",
    "\n",
    "y = layers.Conv1D(16, 3, activation='relu')(inputs)\n",
    "y = layers.MaxPooling1D(16, 3)(y)\n",
    "y = layers.Conv1D(16, 3, activation='relu')(y)\n",
    "y = layers.MaxPooling1D(16, 3)(y)\n",
    "y = layers.Flatten()(y)\n",
    "\n",
    "x = layers.Dense(300, activation='relu')(layers.concatenate([x,y]))\n",
    "x = layers.Dropout(0.3)(x)\n",
    "x = layers.Dense(60, activation='relu')(x)\n",
    "x = layers.Dense(60, activation='relu')(x)\n",
    "x = layers.Dropout(0.1)(x)\n",
    "x = layers.Dense(40, activation='relu')(x)\n",
    "\n",
    "outputs = layers.Dense(12, activation='relu')(x)\n",
    "\n",
    "\n",
    "cnn_model = keras.Model(inputs=inputs, outputs=outputs, name=\"cnn_model\")\n",
    "\n",
    "cnn_model.compile(\n",
    "    optimizer=keras.optimizers.Nadam(),\n",
    "    loss=keras.losses.MeanSquaredError(),\n",
    "    metrics=['mse', 'mae']\n",
    ")\n",
    "cnn_model.summary()\n",
    "\n",
    "EPOCHS = 100\n",
    "history = cnn_model.fit(train_feature_2,\n",
    "                        train_label,\n",
    "                        epochs=EPOCHS, batch_size=200,\n",
    "                        validation_split = 0.1)\n",
    "\n",
    "cnn_model.save('models/cnn_model_100')\n",
    "\n",
    "print('test', cnn_model.evaluate(test_feature_2, test_label, batch_size=2500))\n",
    "print('train', cnn_model.evaluate(train_feature_2, train_label, batch_size=2500))"
   ]
  },
  {
   "cell_type": "code",
   "execution_count": null,
   "metadata": {},
   "outputs": [],
   "source": [
    "show_plot(cnn_model.predict(test_feature_2[:2500]), test_label[:2500],\n",
    "          cnn_model.predict(train_feature_2[:5000]), train_label[:5000],\n",
    "         (0.5, 0.5), 600)"
   ]
  },
  {
   "cell_type": "code",
   "execution_count": null,
   "metadata": {
    "tags": []
   },
   "outputs": [],
   "source": [
    "def inception_layers(input_layer):\n",
    "    a = layers.Conv1D(64, 1, activation='relu', padding='same')(input_layer)\n",
    "    \n",
    "    b = layers.Conv1D(16, 1, activation='relu', padding='same')(input_layer)\n",
    "    c = layers.Conv1D(16, 3, activation='relu', padding='same')(b)\n",
    "    \n",
    "    d = layers.Conv1D(16, 1, activation='relu', padding='same')(input_layer)\n",
    "    e = layers.Conv1D(16, 5, activation='relu', padding='same')(d)\n",
    "    \n",
    "    f = layers.MaxPooling1D(3, strides=1, padding='same')(input_layer)\n",
    "    g = layers.Conv1D(16, 1, activation='relu', padding='same')(f)\n",
    "    \n",
    "    return layers.concatenate([a, c, e, g], axis=2)\n",
    "\n",
    "inputs = keras.Input(shape = (198,1))\n",
    "x = inception_layers(inputs)\n",
    "x = inception_layers(x)\n",
    "x = layers.Flatten()(x)\n",
    "\n",
    "x = layers.Dropout(rate=0.5)(x)\n",
    "x = layers.Dense(400, activation='relu')(x)\n",
    "x = layers.Dropout(0.2)(x)\n",
    "x = layers.Dense(150, activation='relu')(x)\n",
    "\n",
    "outputs = layers.Dense(12, activation='relu')(x)\n",
    "\n",
    "\n",
    "inception_model = keras.Model(inputs=inputs, outputs=outputs, name=\"inception_model\")\n",
    "\n",
    "inception_model.compile(\n",
    "    optimizer=keras.optimizers.Adam(),\n",
    "    loss=keras.losses.MeanSquaredError(),\n",
    "    metrics=['mse', 'mae']\n",
    ")\n",
    "inception_cnn_model.summary()\n",
    "\n",
    "EPOCHS = 100\n",
    "history = inception_model.fit(train_feature_2,\n",
    "                              train_label,\n",
    "                              epochs=EPOCHS, batch_size=200,\n",
    "                              validation_split = 0.1)\n",
    "\n",
    "inception_model.save('models/inception_model_100')\n",
    "\n",
    "print('test', inception_model.evaluate(test_feature_2, test_label, batch_size=2500))\n",
    "print('train', inception_model.evaluate(train_feature_2, train_label, batch_size=2500))"
   ]
  },
  {
   "cell_type": "code",
   "execution_count": null,
   "metadata": {},
   "outputs": [],
   "source": [
    "show_plot(inception_model.predict(test_feature_2[:2500]), test_label[:2500],\n",
    "          inception_model.predict(train_feature_2[:5000]), train_label[:5000],\n",
    "         (0.5, 0.5), 600)"
   ]
  }
 ],
 "metadata": {
  "kernelspec": {
   "display_name": "Python 3",
   "language": "python",
   "name": "python3"
  },
  "language_info": {
   "codemirror_mode": {
    "name": "ipython",
    "version": 3
   },
   "file_extension": ".py",
   "mimetype": "text/x-python",
   "name": "python",
   "nbconvert_exporter": "python",
   "pygments_lexer": "ipython3",
   "version": "3.7.9"
  }
 },
 "nbformat": 4,
 "nbformat_minor": 4
}
