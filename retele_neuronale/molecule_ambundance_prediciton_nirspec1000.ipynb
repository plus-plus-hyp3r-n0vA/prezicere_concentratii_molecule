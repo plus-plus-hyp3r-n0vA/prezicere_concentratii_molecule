{
 "cells": [
  {
   "cell_type": "code",
   "execution_count": null,
   "metadata": {},
   "outputs": [],
   "source": [
    "import sys  \n",
    "sys.path.insert(0, '..')\n",
    "\n",
    "import pandas as pd\n",
    "\n",
    "import tensorflow as tf\n",
    "from tensorflow import keras\n",
    "from tensorflow.keras import layers\n",
    "import numpy as np\n",
    "\n",
    "from util.plots import show_plot\n",
    "\n",
    "feature = pd.read_csv('../data/feature_nirspec1000.csv').values\n",
    "label = pd.read_csv('../data/label_nirspec1000.csv').values\n",
    "\n",
    "train_feature = feature[:50000]\n",
    "train_label = label[:50000]\n",
    "test_feature = feature[50000:]\n",
    "test_label = label[50000:]\n",
    "\n",
    "print(\"Num GPUs Available: \", tf.config.list_physical_devices('GPU'))\n",
    "print(train_feature.shape, train_label.shape)"
   ]
  },
  {
   "cell_type": "markdown",
   "metadata": {},
   "source": [
    "## Model cu straturi dense"
   ]
  },
  {
   "cell_type": "code",
   "execution_count": null,
   "metadata": {},
   "outputs": [],
   "source": [
    "inputs = keras.Input(shape = (1669,))\n",
    "\n",
    "x = layers.Dense(600, activation='relu')(inputs)\n",
    "x = layers.Dropout(0.2)(x)\n",
    "x = layers.Dense(50, activation='relu')(x)\n",
    "x = layers.Dense(50, activation='relu')(x)\n",
    "x = layers.Dense(30, activation='relu')(x)\n",
    "\n",
    "outputs = layers.Dense(12, activation='relu')(x)\n",
    "\n",
    "model = keras.Model(inputs=inputs, outputs=outputs, name=\"d_model\")\n",
    "model.compile(\n",
    "    optimizer=keras.optimizers.Nadam(),\n",
    "    loss=keras.losses.MeanSquaredError(),\n",
    "    metrics=['mse', 'mae']\n",
    ")\n",
    "model.summary()\n",
    "\n",
    "EPOCHS = 90\n",
    "history = model.fit(train_feature,\n",
    "                    train_label,\n",
    "                    epochs=EPOCHS, batch_size=200,\n",
    "                    validation_split = 0.1)\n",
    "\n",
    "model.save('models/d_model_1000')\n",
    "\n",
    "print('test', model.evaluate(test_feature, test_label, batch_size=5000))\n",
    "print('train', model.evaluate(train_feature, train_label, batch_size=5000))"
   ]
  },
  {
   "cell_type": "code",
   "execution_count": null,
   "metadata": {},
   "outputs": [],
   "source": [
    "show_plot(model.predict(test_feature[:2500]), test_label[:2500],\n",
    "          model.predict(train_feature[:5000]), train_label[:5000],\n",
    "         (0.5, 0.5), 600)"
   ]
  },
  {
   "cell_type": "markdown",
   "metadata": {},
   "source": [
    "## Modele cu straturi convoluționale"
   ]
  },
  {
   "cell_type": "code",
   "execution_count": null,
   "metadata": {},
   "outputs": [],
   "source": [
    "train_feature_2 = train_feature[:,:,None]\n",
    "test_feature_2 = test_feature[:,:,None]\n",
    "print(train_feature_2.shape, test_feature_2.shape)"
   ]
  },
  {
   "cell_type": "code",
   "execution_count": null,
   "metadata": {},
   "outputs": [],
   "source": [
    "inputs = keras.Input(shape = (1669,1))\n",
    "x = layers.Conv1D(32, 3, activation='relu')(inputs)\n",
    "x = layers.Flatten()(x)\n",
    "\n",
    "y = layers.Conv1D(16, 5, activation='relu')(inputs)\n",
    "y = layers.MaxPooling1D(16, 5)(y)\n",
    "y = layers.Conv1D(16, 3, activation='relu')(y)\n",
    "y = layers.MaxPooling1D(16, 3)(y)\n",
    "y = layers.Flatten()(y)\n",
    "\n",
    "x = layers.Dense(500, activation='relu')(layers.concatenate([x,y]))\n",
    "x = layers.Dropout(0.3)(x)\n",
    "x = layers.Dense(50, activation='relu')(x)\n",
    "\n",
    "y = layers.Flatten()(inputs)\n",
    "x = layers.Dense(80, activation='relu')(layers.concatenate([x, y]))\n",
    "x = layers.Dropout(0.2)(x)\n",
    " \n",
    "x = layers.Dense(40, activation='relu')(x)\n",
    "x = layers.Dense(20, activation='relu')(x)\n",
    "outputs = layers.Dense(12, activation='relu')(x)\n",
    "\n",
    "\n",
    "cnn_model = keras.Model(inputs=inputs, outputs=outputs, name=\"cnn_model\")\n",
    "\n",
    "cnn_model.compile(\n",
    "    optimizer=keras.optimizers.Nadam(),\n",
    "    loss=keras.losses.MeanSquaredError(),\n",
    "    metrics=['mse', 'mae']\n",
    ")\n",
    "cnn_model.summary()\n",
    "\n",
    "EPOCHS = 140\n",
    "history = cnn_model.fit(train_feature_2,\n",
    "                        train_label,\n",
    "                        epochs=EPOCHS, batch_size=200,\n",
    "                        validation_split = 0.1)\n",
    "\n",
    "cnn_model_1000 = tf.keras.models.load_model('models/cnn_model_1000')\n",
    "\n",
    "print('test', cnn_model.evaluate(test_feature_2, test_label, batch_size=2500))\n",
    "print('train', cnn_model.evaluate(train_feature_2, train_label, batch_size=2500))"
   ]
  },
  {
   "cell_type": "code",
   "execution_count": null,
   "metadata": {},
   "outputs": [],
   "source": [
    "show_plot(cnn_model.predict(test_feature_2[:2500]), test_label[:2500],\n",
    "          cnn_model.predict(train_feature_2[:5000]), train_label[:5000],\n",
    "         (0.5, 0.5), 600)"
   ]
  }
 ],
 "metadata": {
  "kernelspec": {
   "display_name": "Python 3",
   "language": "python",
   "name": "python3"
  },
  "language_info": {
   "codemirror_mode": {
    "name": "ipython",
    "version": 3
   },
   "file_extension": ".py",
   "mimetype": "text/x-python",
   "name": "python",
   "nbconvert_exporter": "python",
   "pygments_lexer": "ipython3",
   "version": "3.7.9"
  }
 },
 "nbformat": 4,
 "nbformat_minor": 4
}
